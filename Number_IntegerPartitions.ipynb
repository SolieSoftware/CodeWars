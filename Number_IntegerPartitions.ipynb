{
  "nbformat": 4,
  "nbformat_minor": 0,
  "metadata": {
    "colab": {
      "provenance": [],
      "authorship_tag": "ABX9TyNfnDoniY430tauU1FAZ06r",
      "include_colab_link": true
    },
    "kernelspec": {
      "name": "python3",
      "display_name": "Python 3"
    },
    "language_info": {
      "name": "python"
    }
  },
  "cells": [
    {
      "cell_type": "markdown",
      "metadata": {
        "id": "view-in-github",
        "colab_type": "text"
      },
      "source": [
        "<a href=\"https://colab.research.google.com/github/SolieSoftware/CodeWars/blob/main/Number_IntegerPartitions.ipynb\" target=\"_parent\"><img src=\"https://colab.research.google.com/assets/colab-badge.svg\" alt=\"Open In Colab\"/></a>"
      ]
    },
    {
      "cell_type": "code",
      "execution_count": 13,
      "metadata": {
        "id": "rTdOI6FkrTTY"
      },
      "outputs": [],
      "source": [
        "def exp_sum(n):\n",
        "  parts = [1]+[0]*n\n",
        "  print(parts)\n",
        "  for t in range(1, n+1):\n",
        "    for i, x in enumerate(range(t, n+1)):\n",
        "      #print('i = ', i)\n",
        "      #print('x = ', x)\n",
        "      parts[x] += parts[i]\n",
        "  print(parts)\n",
        "  return parts[n]\n"
      ]
    },
    {
      "cell_type": "code",
      "source": [
        "print(exp_sum(10))"
      ],
      "metadata": {
        "colab": {
          "base_uri": "https://localhost:8080/"
        },
        "id": "AcXv5Uk4rnJE",
        "outputId": "973cf5b6-98d7-4ae5-ac87-e34946587005"
      },
      "execution_count": 14,
      "outputs": [
        {
          "output_type": "stream",
          "name": "stdout",
          "text": [
            "[1, 0, 0, 0, 0, 0, 0, 0, 0, 0, 0]\n",
            "[1, 1, 2, 3, 5, 7, 11, 15, 22, 30, 42]\n",
            "42\n"
          ]
        }
      ]
    }
  ]
}