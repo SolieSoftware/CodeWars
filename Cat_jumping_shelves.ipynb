{
  "nbformat": 4,
  "nbformat_minor": 0,
  "metadata": {
    "colab": {
      "provenance": [],
      "authorship_tag": "ABX9TyMxV6ac/51XeKmxtKJ4BdyC",
      "include_colab_link": true
    },
    "kernelspec": {
      "name": "python3",
      "display_name": "Python 3"
    },
    "language_info": {
      "name": "python"
    }
  },
  "cells": [
    {
      "cell_type": "markdown",
      "metadata": {
        "id": "view-in-github",
        "colab_type": "text"
      },
      "source": [
        "<a href=\"https://colab.research.google.com/github/SolieSoftware/CodeWars/blob/main/Cat_jumping_shelves.ipynb\" target=\"_parent\"><img src=\"https://colab.research.google.com/assets/colab-badge.svg\" alt=\"Open In Colab\"/></a>"
      ]
    },
    {
      "cell_type": "code",
      "execution_count": null,
      "metadata": {
        "id": "1H1XYvaadW49"
      },
      "outputs": [],
      "source": [
        "def solution(start, finish):\n",
        "    return sum(divmod(finish-start, 3))"
      ]
    }
  ]
}